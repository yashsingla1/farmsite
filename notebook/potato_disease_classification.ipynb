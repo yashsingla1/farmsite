{
 "cells": [
  {
   "cell_type": "code",
   "execution_count": 1,
   "id": "39f27bae",
   "metadata": {},
   "outputs": [],
   "source": [
    "import tensorflow as tf\n",
    "from tensorflow.keras import models ,layers\n",
    "#import matplotlib.pyplot as plt\n",
    "import os\n",
    "import tensorflow as tf\n",
    "import keras\n",
    "from tensorflow.keras.models import Model\n",
    "from tensorflow.keras.utils import plot_model\n",
    "from tensorflow.keras.models import Sequential\n",
    "from tensorflow.keras.applications import VGG19\n",
    "from tensorflow.keras.callbacks import EarlyStopping\n",
    "from tensorflow.keras.preprocessing.image import ImageDataGenerator\n",
    "from tensorflow.keras.layers import Input,Lambda,Dense,Flatten,Dropout,BatchNormalization,Activation\n",
    "#from sklearn.metrics import confusion_matrix,classification_report,accuracy_score,recall_score,precision_score,f1_score\n",
    "#import sys\n",
    "#import scipy.io\n",
    "#import scipy.misc\n",
    "#import matplotlib.pyplot as plt\n",
    "#from matplotlib.pyplot import imshow\n",
    "import numpy as np"
   ]
  },
  {
   "cell_type": "code",
   "execution_count": 4,
   "id": "8b9b9d32",
   "metadata": {},
   "outputs": [
    {
     "name": "stdout",
     "output_type": "stream",
     "text": [
      "Found 2152 files belonging to 3 classes.\n"
     ]
    }
   ],
   "source": [
    "dataset =tf.keras.preprocessing.image_dataset_from_directory(\n",
    "    \"cl\",\n",
    "    shuffle=True,\n",
    "    image_size=(256,256),\n",
    "    batch_size=32,\n",
    ")"
   ]
  },
  {
   "cell_type": "code",
   "execution_count": 5,
   "id": "d917eca1",
   "metadata": {},
   "outputs": [
    {
     "data": {
      "text/plain": [
       "['Potato___Early_blight', 'Potato___Late_blight', 'Potato___healthy']"
      ]
     },
     "execution_count": 5,
     "metadata": {},
     "output_type": "execute_result"
    }
   ],
   "source": [
    "class_names=dataset.class_names\n",
    "class_names"
   ]
  },
  {
   "cell_type": "code",
   "execution_count": 6,
   "id": "5a1525a6",
   "metadata": {},
   "outputs": [
    {
     "data": {
      "text/plain": [
       "54"
      ]
     },
     "execution_count": 6,
     "metadata": {},
     "output_type": "execute_result"
    }
   ],
   "source": [
    "train_size=0.8\n",
    "l=int(len(dataset)*train_size)\n",
    "l"
   ]
  },
  {
   "cell_type": "code",
   "execution_count": 7,
   "id": "1bf9ee46",
   "metadata": {},
   "outputs": [
    {
     "data": {
      "text/plain": [
       "54"
      ]
     },
     "execution_count": 7,
     "metadata": {},
     "output_type": "execute_result"
    }
   ],
   "source": [
    "train_ds=dataset.take(l)\n",
    "len(train_ds)"
   ]
  },
  {
   "cell_type": "code",
   "execution_count": 8,
   "id": "cb829a9f",
   "metadata": {},
   "outputs": [],
   "source": [
    "test_ds=dataset.skip(54)"
   ]
  },
  {
   "cell_type": "code",
   "execution_count": 9,
   "id": "cb0344ca",
   "metadata": {},
   "outputs": [],
   "source": [
    "val_size=0.1\n",
    "l=int(len(dataset)*val_size)\n",
    "val_ds=dataset.take(l)"
   ]
  },
  {
   "cell_type": "code",
   "execution_count": 10,
   "id": "fa6ec4af",
   "metadata": {},
   "outputs": [],
   "source": [
    "test_ds=dataset.skip(6)"
   ]
  },
  {
   "cell_type": "code",
   "execution_count": 11,
   "id": "d54029b6",
   "metadata": {},
   "outputs": [],
   "source": [
    "def get_dataset_partition_tf(ds,train_split=0.8,val_split=0.1,test_split=0.1,shuffle=True,shuffle_size=10000):\n",
    "    ds_size=len(ds)\n",
    "    if shuffle:\n",
    "        ds=ds.shuffle(shuffle_size,seed=12)\n",
    "    train_size=int(ds_size*train_split)\n",
    "    val_size=int(ds_size*val_split)\n",
    "    train_ds=ds.take(train_size)\n",
    "    val_ds=ds.skip(train_size).take(val_size)\n",
    "    test_ds=ds.skip(train_size).skip(val_size)\n",
    "    return train_ds,val_ds,test_ds\n",
    "    "
   ]
  },
  {
   "cell_type": "code",
   "execution_count": 12,
   "id": "1bede089",
   "metadata": {},
   "outputs": [],
   "source": [
    "train_ds=train_ds.cache().shuffle(1000).prefetch(buffer_size=tf.data.AUTOTUNE)\n",
    "val_ds=val_ds.cache().shuffle(1000).prefetch(buffer_size=tf.data.AUTOTUNE)\n",
    "\n",
    "test_ds=test_ds.cache().shuffle(1000).prefetch(buffer_size=tf.data.AUTOTUNE)\n",
    "\n",
    "IMAGE_SIZE=256\n",
    "train_ds,val_ds,test_ds=get_dataset_partition_tf(dataset)"
   ]
  },
  {
   "cell_type": "code",
   "execution_count": 13,
   "id": "c76ea2fa",
   "metadata": {},
   "outputs": [],
   "source": [
    "#prefetching the values so that while gpu is traing cpu can load another batch\n",
    "train_ds=train_ds.cache().shuffle(1000).prefetch(buffer_size=tf.data.AUTOTUNE)\n",
    "val_ds=val_ds.cache().shuffle(1000).prefetch(buffer_size=tf.data.AUTOTUNE)\n",
    "\n",
    "test_ds=test_ds.cache().shuffle(1000).prefetch(buffer_size=tf.data.AUTOTUNE)\n",
    "\n",
    "IMAGE_SIZE=256"
   ]
  },
  {
   "cell_type": "code",
   "execution_count": 14,
   "id": "340f62b3",
   "metadata": {},
   "outputs": [],
   "source": [
    "resize_and_rescale =tf.keras.Sequential([\n",
    "    layers.experimental.preprocessing.Resizing(IMAGE_SIZE,IMAGE_SIZE),\n",
    "    layers.experimental.preprocessing.RandomRotation(0.2)\n",
    "])"
   ]
  },
  {
   "cell_type": "code",
   "execution_count": 15,
   "id": "aa515189",
   "metadata": {},
   "outputs": [],
   "source": [
    "data_augmentation = tf.keras.Sequential([\n",
    "        layers.experimental.preprocessing.RandomFlip(\"horizontal_and_vertical\"),\n",
    "        layers.experimental.preprocessing.Resizing(IMAGE_SIZE,IMAGE_SIZE),\n",
    "\n",
    "])"
   ]
  },
  {
   "cell_type": "code",
   "execution_count": 16,
   "id": "470b437c",
   "metadata": {},
   "outputs": [],
   "source": [
    "CHANNELS=3\n",
    "import os\n",
    "batch_size=32\n",
    "input_shape=(batch_size,IMAGE_SIZE,IMAGE_SIZE, CHANNELS)\n",
    "n_classes=3\n",
    "model=models.Sequential([\n",
    "    resize_and_rescale,\n",
    "    data_augmentation,\n",
    "    layers.Conv2D(32, (3,3),activation='relu', input_shape=input_shape),\n",
    "    layers.MaxPooling2D((2,2)),\n",
    "    layers.Conv2D(64, kernel_size= (3,3) , activation='relu'),\n",
    "    layers.MaxPooling2D((2,2)),\n",
    "    layers.Conv2D(64, kernel_size= (3,3) , activation='relu'),\n",
    "    layers.MaxPooling2D((2,2)),\n",
    "    layers.Conv2D(64, (3,3),activation='relu'),\n",
    "    layers.MaxPooling2D((2,2)),\n",
    "    layers.Conv2D(64, (3,3),activation='relu'),\n",
    "    layers.MaxPooling2D((2,2)),\n",
    "    layers.Conv2D(64, (3,3),activation='relu'),\n",
    "    layers.MaxPooling2D((2,2)),\n",
    "    layers.Flatten(),\n",
    "    layers.Dense(64,activation='relu'),\n",
    "    layers.Dense(n_classes , activation = 'softmax')\n",
    "])\n",
    "model.build(input_shape=input_shape)"
   ]
  },
  {
   "cell_type": "code",
   "execution_count": 17,
   "id": "709aca7c",
   "metadata": {},
   "outputs": [
    {
     "name": "stdout",
     "output_type": "stream",
     "text": [
      "Model: \"sequential_2\"\n",
      "_________________________________________________________________\n",
      "Layer (type)                 Output Shape              Param #   \n",
      "=================================================================\n",
      "sequential (Sequential)      (32, 256, 256, 3)         0         \n",
      "_________________________________________________________________\n",
      "sequential_1 (Sequential)    (32, 256, 256, 3)         0         \n",
      "_________________________________________________________________\n",
      "conv2d (Conv2D)              (32, 254, 254, 32)        896       \n",
      "_________________________________________________________________\n",
      "max_pooling2d (MaxPooling2D) (32, 127, 127, 32)        0         \n",
      "_________________________________________________________________\n",
      "conv2d_1 (Conv2D)            (32, 125, 125, 64)        18496     \n",
      "_________________________________________________________________\n",
      "max_pooling2d_1 (MaxPooling2 (32, 62, 62, 64)          0         \n",
      "_________________________________________________________________\n",
      "conv2d_2 (Conv2D)            (32, 60, 60, 64)          36928     \n",
      "_________________________________________________________________\n",
      "max_pooling2d_2 (MaxPooling2 (32, 30, 30, 64)          0         \n",
      "_________________________________________________________________\n",
      "conv2d_3 (Conv2D)            (32, 28, 28, 64)          36928     \n",
      "_________________________________________________________________\n",
      "max_pooling2d_3 (MaxPooling2 (32, 14, 14, 64)          0         \n",
      "_________________________________________________________________\n",
      "conv2d_4 (Conv2D)            (32, 12, 12, 64)          36928     \n",
      "_________________________________________________________________\n",
      "max_pooling2d_4 (MaxPooling2 (32, 6, 6, 64)            0         \n",
      "_________________________________________________________________\n",
      "conv2d_5 (Conv2D)            (32, 4, 4, 64)            36928     \n",
      "_________________________________________________________________\n",
      "max_pooling2d_5 (MaxPooling2 (32, 2, 2, 64)            0         \n",
      "_________________________________________________________________\n",
      "flatten (Flatten)            (32, 256)                 0         \n",
      "_________________________________________________________________\n",
      "dense (Dense)                (32, 64)                  16448     \n",
      "_________________________________________________________________\n",
      "dense_1 (Dense)              (32, 3)                   195       \n",
      "=================================================================\n",
      "Total params: 183,747\n",
      "Trainable params: 183,747\n",
      "Non-trainable params: 0\n",
      "_________________________________________________________________\n"
     ]
    }
   ],
   "source": [
    "model.summary()"
   ]
  },
  {
   "cell_type": "code",
   "execution_count": 18,
   "id": "f231031e",
   "metadata": {},
   "outputs": [],
   "source": [
    "model.compile(\n",
    "    optimizer='adam',\n",
    "    loss=tf.keras.losses.SparseCategoricalCrossentropy(from_logits=False),\n",
    "    metrics=['accuracy']\n",
    "    \n",
    "\n",
    ")"
   ]
  },
  {
   "cell_type": "code",
   "execution_count": 19,
   "id": "2e4b4964",
   "metadata": {},
   "outputs": [],
   "source": [
    "EPOCHS=50"
   ]
  },
  {
   "cell_type": "code",
   "execution_count": 20,
   "id": "6f7b1bfa",
   "metadata": {},
   "outputs": [
    {
     "name": "stdout",
     "output_type": "stream",
     "text": [
      "Epoch 1/50\n",
      "54/54 [==============================] - 18s 98ms/step - loss: 1.7755 - accuracy: 0.4786 - val_loss: 0.8367 - val_accuracy: 0.5573\n",
      "Epoch 2/50\n",
      "54/54 [==============================] - 4s 77ms/step - loss: 0.7275 - accuracy: 0.6597 - val_loss: 0.8835 - val_accuracy: 0.5365\n",
      "Epoch 3/50\n",
      "54/54 [==============================] - 4s 77ms/step - loss: 0.5273 - accuracy: 0.7627 - val_loss: 0.2968 - val_accuracy: 0.8958\n",
      "Epoch 4/50\n",
      "54/54 [==============================] - 4s 76ms/step - loss: 0.2985 - accuracy: 0.8837 - val_loss: 0.2657 - val_accuracy: 0.8750\n",
      "Epoch 5/50\n",
      "54/54 [==============================] - 4s 77ms/step - loss: 0.2601 - accuracy: 0.8958 - val_loss: 0.5216 - val_accuracy: 0.8073\n",
      "Epoch 6/50\n",
      "54/54 [==============================] - 4s 77ms/step - loss: 0.2516 - accuracy: 0.9086 - val_loss: 0.1792 - val_accuracy: 0.9375\n",
      "Epoch 7/50\n",
      "54/54 [==============================] - 4s 77ms/step - loss: 0.1989 - accuracy: 0.9265 - val_loss: 0.1942 - val_accuracy: 0.9219\n",
      "Epoch 8/50\n",
      "54/54 [==============================] - 4s 77ms/step - loss: 0.1714 - accuracy: 0.9311 - val_loss: 0.1444 - val_accuracy: 0.9427\n",
      "Epoch 9/50\n",
      "54/54 [==============================] - 4s 77ms/step - loss: 0.2417 - accuracy: 0.9034 - val_loss: 0.1772 - val_accuracy: 0.9323\n",
      "Epoch 10/50\n",
      "54/54 [==============================] - 4s 78ms/step - loss: 0.1572 - accuracy: 0.9398 - val_loss: 0.0916 - val_accuracy: 0.9688\n",
      "Epoch 11/50\n",
      "54/54 [==============================] - 4s 77ms/step - loss: 0.1499 - accuracy: 0.9375 - val_loss: 0.1379 - val_accuracy: 0.9531\n",
      "Epoch 12/50\n",
      "54/54 [==============================] - 4s 78ms/step - loss: 0.1392 - accuracy: 0.9444 - val_loss: 0.0621 - val_accuracy: 0.9896\n",
      "Epoch 13/50\n",
      "54/54 [==============================] - 4s 78ms/step - loss: 0.1472 - accuracy: 0.9421 - val_loss: 0.1820 - val_accuracy: 0.9010\n",
      "Epoch 14/50\n",
      "54/54 [==============================] - 4s 78ms/step - loss: 0.1238 - accuracy: 0.9549 - val_loss: 0.0770 - val_accuracy: 0.9740\n",
      "Epoch 15/50\n",
      "54/54 [==============================] - 4s 78ms/step - loss: 0.1114 - accuracy: 0.9560 - val_loss: 0.1147 - val_accuracy: 0.9688\n",
      "Epoch 16/50\n",
      "54/54 [==============================] - 4s 78ms/step - loss: 0.0963 - accuracy: 0.9653 - val_loss: 0.1298 - val_accuracy: 0.9427\n",
      "Epoch 17/50\n",
      "54/54 [==============================] - 4s 78ms/step - loss: 0.1297 - accuracy: 0.9531 - val_loss: 0.1388 - val_accuracy: 0.9271\n",
      "Epoch 18/50\n",
      "54/54 [==============================] - 4s 78ms/step - loss: 0.1174 - accuracy: 0.9537 - val_loss: 0.0923 - val_accuracy: 0.9635\n",
      "Epoch 19/50\n",
      "54/54 [==============================] - 4s 78ms/step - loss: 0.1600 - accuracy: 0.9363 - val_loss: 0.1095 - val_accuracy: 0.9740\n",
      "Epoch 20/50\n",
      "54/54 [==============================] - 4s 78ms/step - loss: 0.1374 - accuracy: 0.9450 - val_loss: 0.1080 - val_accuracy: 0.9479\n",
      "Epoch 21/50\n",
      "54/54 [==============================] - 4s 78ms/step - loss: 0.1148 - accuracy: 0.9537 - val_loss: 0.0926 - val_accuracy: 0.9688\n",
      "Epoch 22/50\n",
      "54/54 [==============================] - 4s 78ms/step - loss: 0.0737 - accuracy: 0.9728 - val_loss: 0.0370 - val_accuracy: 1.0000\n",
      "Epoch 23/50\n",
      "54/54 [==============================] - 4s 77ms/step - loss: 0.0597 - accuracy: 0.9757 - val_loss: 0.0501 - val_accuracy: 0.9688\n",
      "Epoch 24/50\n",
      "54/54 [==============================] - 4s 77ms/step - loss: 0.1227 - accuracy: 0.9566 - val_loss: 0.0850 - val_accuracy: 0.9583\n",
      "Epoch 25/50\n",
      "54/54 [==============================] - 4s 77ms/step - loss: 0.1044 - accuracy: 0.9641 - val_loss: 0.1720 - val_accuracy: 0.9323\n",
      "Epoch 26/50\n",
      "54/54 [==============================] - 4s 78ms/step - loss: 0.0756 - accuracy: 0.9711 - val_loss: 0.0778 - val_accuracy: 0.9688\n",
      "Epoch 27/50\n",
      "54/54 [==============================] - 4s 77ms/step - loss: 0.1107 - accuracy: 0.9578 - val_loss: 0.0503 - val_accuracy: 0.9792\n",
      "Epoch 28/50\n",
      "54/54 [==============================] - 4s 77ms/step - loss: 0.1004 - accuracy: 0.9566 - val_loss: 0.0680 - val_accuracy: 0.9792\n",
      "Epoch 29/50\n",
      "54/54 [==============================] - 4s 77ms/step - loss: 0.0526 - accuracy: 0.9815 - val_loss: 0.0534 - val_accuracy: 0.9844\n",
      "Epoch 30/50\n",
      "54/54 [==============================] - 4s 78ms/step - loss: 0.0626 - accuracy: 0.9769 - val_loss: 0.0411 - val_accuracy: 0.9896\n",
      "Epoch 31/50\n",
      "54/54 [==============================] - 4s 78ms/step - loss: 0.0575 - accuracy: 0.9786 - val_loss: 0.1830 - val_accuracy: 0.9375\n",
      "Epoch 32/50\n",
      "54/54 [==============================] - 4s 78ms/step - loss: 0.1331 - accuracy: 0.9560 - val_loss: 0.1171 - val_accuracy: 0.9583\n",
      "Epoch 33/50\n",
      "54/54 [==============================] - 4s 77ms/step - loss: 0.0714 - accuracy: 0.9716 - val_loss: 0.0871 - val_accuracy: 0.9740\n",
      "Epoch 34/50\n",
      "54/54 [==============================] - 4s 77ms/step - loss: 0.0605 - accuracy: 0.9774 - val_loss: 0.0765 - val_accuracy: 0.9740\n",
      "Epoch 35/50\n",
      "54/54 [==============================] - 4s 78ms/step - loss: 0.0725 - accuracy: 0.9722 - val_loss: 0.0422 - val_accuracy: 0.9844\n",
      "Epoch 36/50\n",
      "54/54 [==============================] - 4s 78ms/step - loss: 0.0671 - accuracy: 0.9734 - val_loss: 0.0620 - val_accuracy: 0.9792\n",
      "Epoch 37/50\n",
      "54/54 [==============================] - 4s 78ms/step - loss: 0.0820 - accuracy: 0.9670 - val_loss: 0.0398 - val_accuracy: 0.9948\n",
      "Epoch 38/50\n",
      "54/54 [==============================] - 4s 78ms/step - loss: 0.0369 - accuracy: 0.9878 - val_loss: 0.0196 - val_accuracy: 1.0000\n",
      "Epoch 39/50\n",
      "54/54 [==============================] - 4s 78ms/step - loss: 0.0584 - accuracy: 0.9780 - val_loss: 0.1326 - val_accuracy: 0.9375\n",
      "Epoch 40/50\n",
      "54/54 [==============================] - 4s 78ms/step - loss: 0.0760 - accuracy: 0.9734 - val_loss: 0.0610 - val_accuracy: 0.9792\n",
      "Epoch 41/50\n",
      "54/54 [==============================] - 4s 78ms/step - loss: 0.0741 - accuracy: 0.9763 - val_loss: 0.1909 - val_accuracy: 0.9323\n",
      "Epoch 42/50\n",
      "54/54 [==============================] - 4s 78ms/step - loss: 0.0905 - accuracy: 0.9670 - val_loss: 0.0194 - val_accuracy: 0.9948\n",
      "Epoch 43/50\n",
      "54/54 [==============================] - 4s 78ms/step - loss: 0.0399 - accuracy: 0.9855 - val_loss: 0.0201 - val_accuracy: 0.9948\n",
      "Epoch 44/50\n",
      "54/54 [==============================] - 4s 78ms/step - loss: 0.0376 - accuracy: 0.9861 - val_loss: 0.0235 - val_accuracy: 0.9948\n",
      "Epoch 45/50\n",
      "54/54 [==============================] - 4s 77ms/step - loss: 0.0687 - accuracy: 0.9774 - val_loss: 0.0675 - val_accuracy: 0.9740\n",
      "Epoch 46/50\n",
      "54/54 [==============================] - 4s 77ms/step - loss: 0.0735 - accuracy: 0.9722 - val_loss: 0.0528 - val_accuracy: 0.9792\n",
      "Epoch 47/50\n",
      "54/54 [==============================] - 4s 78ms/step - loss: 0.0451 - accuracy: 0.9850 - val_loss: 0.1208 - val_accuracy: 0.9635\n",
      "Epoch 48/50\n",
      "54/54 [==============================] - 4s 78ms/step - loss: 0.0456 - accuracy: 0.9861 - val_loss: 0.0388 - val_accuracy: 0.9844\n",
      "Epoch 49/50\n",
      "54/54 [==============================] - 4s 78ms/step - loss: 0.0402 - accuracy: 0.9861 - val_loss: 0.0444 - val_accuracy: 0.9844\n",
      "Epoch 50/50\n",
      "54/54 [==============================] - 4s 78ms/step - loss: 0.0418 - accuracy: 0.9850 - val_loss: 0.0596 - val_accuracy: 0.9740\n"
     ]
    }
   ],
   "source": [
    "history=model.fit(\n",
    "    train_ds,\n",
    "    epochs=EPOCHS,\n",
    "    batch_size=batch_size,\n",
    "    verbose=1,\n",
    "    validation_data=val_ds\n",
    ")"
   ]
  },
  {
   "cell_type": "code",
   "execution_count": 21,
   "id": "ba9b17bf",
   "metadata": {},
   "outputs": [
    {
     "name": "stdout",
     "output_type": "stream",
     "text": [
      "8/8 [==============================] - 1s 42ms/step - loss: 0.0273 - accuracy: 0.9922\n"
     ]
    }
   ],
   "source": [
    "scores=model.evaluate(test_ds)"
   ]
  },
  {
   "cell_type": "code",
   "execution_count": 22,
   "id": "69bd7862",
   "metadata": {},
   "outputs": [
    {
     "data": {
      "text/plain": [
       "[0.02734120562672615, 0.9921875]"
      ]
     },
     "execution_count": 22,
     "metadata": {},
     "output_type": "execute_result"
    }
   ],
   "source": [
    "scores"
   ]
  },
  {
   "cell_type": "code",
   "execution_count": 23,
   "id": "ee2e81ec",
   "metadata": {},
   "outputs": [],
   "source": [
    "accuracy=history.history['accuracy']\n",
    "val_acc=history.history['val_accuracy']\n",
    "loss=history.history['loss']\n",
    "val_loss=history.history['val_loss']"
   ]
  },
  {
   "cell_type": "code",
   "execution_count": 24,
   "id": "91f0d0a2",
   "metadata": {},
   "outputs": [],
   "source": [
    "def predict(model,img):\n",
    "    img_array=tf.keras.preprocessing.image.img_to_array(images[i].numpy)\n",
    "    img_array=tf.expand_dims(img_array,0)\n",
    "    \n",
    "    predictions= model.predict(img_array)\n",
    "    predicted_class=class_names[np.argmax(predictions[0])]\n",
    "    confidence=round(100*(np.max(predictions[0])),2)\n",
    "    return predicted_class ,confidence"
   ]
  },
  {
   "cell_type": "code",
   "execution_count": 27,
   "id": "92965ecc",
   "metadata": {},
   "outputs": [],
   "source": [
    "from joblib import dump\n"
   ]
  },
  {
   "cell_type": "code",
   "execution_count": 34,
   "id": "f06a4315",
   "metadata": {},
   "outputs": [
    {
     "name": "stdout",
     "output_type": "stream",
     "text": [
      "INFO:tensorflow:Assets written to: ./../models/model1\\assets\n"
     ]
    }
   ],
   "source": [
    "model_version=1\n",
    "model.save(f\"./../models/model1\")\n"
   ]
  },
  {
   "cell_type": "code",
   "execution_count": 35,
   "id": "6ea5bf37",
   "metadata": {},
   "outputs": [],
   "source": [
    "model.save('m.h5')"
   ]
  },
  {
   "cell_type": "code",
   "execution_count": 36,
   "id": "bf8259d3",
   "metadata": {},
   "outputs": [],
   "source": [
    "import keras\n",
    "from keras.models import load_model"
   ]
  },
  {
   "cell_type": "code",
   "execution_count": 37,
   "id": "6f5bcbcb",
   "metadata": {},
   "outputs": [
    {
     "data": {
      "text/plain": [
       "<keras.engine.sequential.Sequential at 0x18ad41fda00>"
      ]
     },
     "execution_count": 37,
     "metadata": {},
     "output_type": "execute_result"
    }
   ],
   "source": [
    "load_model('m.h5')"
   ]
  },
  {
   "cell_type": "code",
   "execution_count": null,
   "id": "ac1747dd",
   "metadata": {},
   "outputs": [],
   "source": []
  }
 ],
 "metadata": {
  "kernelspec": {
   "display_name": "Python 3 (ipykernel)",
   "language": "python",
   "name": "python3"
  },
  "language_info": {
   "codemirror_mode": {
    "name": "ipython",
    "version": 3
   },
   "file_extension": ".py",
   "mimetype": "text/x-python",
   "name": "python",
   "nbconvert_exporter": "python",
   "pygments_lexer": "ipython3",
   "version": "3.9.16"
  }
 },
 "nbformat": 4,
 "nbformat_minor": 5
}
